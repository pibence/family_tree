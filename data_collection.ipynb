{
 "cells": [
  {
   "cell_type": "markdown",
   "metadata": {},
   "source": [
    "# Collecting data from html files"
   ]
  },
  {
   "cell_type": "markdown",
   "metadata": {},
   "source": [
    "### Importing necessary paackages, function"
   ]
  },
  {
   "cell_type": "code",
   "execution_count": 3,
   "metadata": {},
   "outputs": [],
   "source": [
    "from utils.datacollection import html_to_df\n",
    "import pandas as pd\n",
    "from datetime import datetime\n",
    "import time\n",
    "from timeit import default_timer as timer\n",
    "from multiprocessing import Pool"
   ]
  },
  {
   "cell_type": "markdown",
   "metadata": {},
   "source": [
    "### Defining paths to execute function"
   ]
  },
  {
   "cell_type": "code",
   "execution_count": 22,
   "metadata": {},
   "outputs": [],
   "source": [
    "path1 = 'G:/python_project/Resources/Osoby_HU_html/7'\n",
    "path2 = 'G:/python_project/Resources/Osoby_HU_html/8'\n",
    "path3 = 'G:/python_project/Resources/Osoby_HU_html/9'\n",
    "path4 = 'G:/python_project/Resources/Osoby_HU_html/10'"
   ]
  },
  {
   "cell_type": "code",
   "execution_count": 23,
   "metadata": {},
   "outputs": [],
   "source": [
    "#test paths\n",
    "#path5 ='C:/Dokumentumok/Egyetem/Heller/Kurzusok/Haladó_Python/projekt/html'\n",
    "#path6 ='C:/Dokumentumok/Egyetem/Heller/Kurzusok/Haladó_Python/projekt/html2'\n",
    "#path7 ='C:/Dokumentumok/Egyetem/Heller/Kurzusok/Haladó_Python/projekt/html3'\n",
    "#path8 ='C:/Dokumentumok/Egyetem/Heller/Kurzusok/Haladó_Python/projekt/html4'"
   ]
  },
  {
   "cell_type": "markdown",
   "metadata": {},
   "source": [
    "### Creating multiple processes to read data from folders"
   ]
  },
  {
   "cell_type": "code",
   "execution_count": null,
   "metadata": {},
   "outputs": [],
   "source": [
    "if __name__ == '__main__':\n",
    "    \n",
    "    start = timer()\n",
    "    \n",
    "    with Pool() as pool:\n",
    "        df = pd.concat(pool.map(html_to_df, [path1, path2, path3, path4]))\n",
    "    \n",
    "    end = timer()\n",
    "    print(f'elapsed time: {end - start}')"
   ]
  },
  {
   "cell_type": "markdown",
   "metadata": {},
   "source": [
    "### Writing data to csv"
   ]
  },
  {
   "cell_type": "code",
   "execution_count": 15,
   "metadata": {},
   "outputs": [],
   "source": [
    "df.to_csv(\"final.csv\", encoding='utf-8-sig', sep = ';', index = False)"
   ]
  },
  {
   "cell_type": "markdown",
   "metadata": {},
   "source": [
    "## Reading csv and cleaning the data "
   ]
  },
  {
   "cell_type": "code",
   "execution_count": 4,
   "metadata": {},
   "outputs": [
    {
     "name": "stderr",
     "output_type": "stream",
     "text": [
      "C:\\Users\\pipis\\AppData\\Local\\Programs\\Python\\Python39\\lib\\site-packages\\IPython\\core\\interactiveshell.py:3146: DtypeWarning: Columns (14,15) have mixed types.Specify dtype option on import or set low_memory=False.\n",
      "  has_raised = await self.run_ast_nodes(code_ast.body, cell_name,\n"
     ]
    }
   ],
   "source": [
    "df_new = pd.read_csv('final.csv', sep = ';')"
   ]
  },
  {
   "cell_type": "code",
   "execution_count": 5,
   "metadata": {},
   "outputs": [],
   "source": [
    "df_new.replace({\"*\" : None}, inplace = True)\n",
    "df_new.replace({\"-\" : None}, inplace = True)\n",
    "df_new.replace({\"+\" : None}, inplace = True)\n",
    "df_new.replace({\"?\" : None}, inplace = True)\n",
    "df_new.replace({\"---\" : None}, inplace = True)\n",
    "df_new.replace({\"(+)\" : None}, inplace = True)"
   ]
  },
  {
   "cell_type": "markdown",
   "metadata": {},
   "source": [
    "## Adding gender column\n",
    "\n",
    "\n",
    "#### Creating lists of id-s that are males and females by fater_id, mother_id columns"
   ]
  },
  {
   "cell_type": "code",
   "execution_count": 6,
   "metadata": {},
   "outputs": [],
   "source": [
    "s1 = df_new[[\"father_id\"]]\n",
    "s1.columns = [\"id\"]\n",
    "s2 = df_new[[\"mother_id\"]]\n",
    "s2.columns = [\"id\"]\n",
    "males_list = s1.drop_duplicates()[\"id\"].tolist()\n",
    "females_list = s2.drop_duplicates()[\"id\"].tolist()"
   ]
  },
  {
   "cell_type": "markdown",
   "metadata": {},
   "source": [
    "#### Creating list of first names of males and females"
   ]
  },
  {
   "cell_type": "code",
   "execution_count": null,
   "metadata": {},
   "outputs": [],
   "source": [
    "male_names_list = df_new[df_new[\"id\"].isin(males_list)][\"first_name_1\"].drop_duplicates().tolist()\n",
    "female_names_list = df_new[df_new[\"id\"].isin(females_list)][\"first_name_1\"].drop_duplicates().tolist()"
   ]
  },
  {
   "cell_type": "markdown",
   "metadata": {},
   "source": [
    "#### Checking how many names are not in the lists of father or mother names"
   ]
  },
  {
   "cell_type": "code",
   "execution_count": 8,
   "metadata": {},
   "outputs": [
    {
     "data": {
      "text/plain": [
       "76"
      ]
     },
     "execution_count": 8,
     "metadata": {},
     "output_type": "execute_result"
    }
   ],
   "source": [
    "first_names = df_new[\"first_name_1\"].drop_duplicates().tolist()\n",
    "missing = [x for x in first_names if ((x not in male_names_list) and (x not in female_names_list))]\n",
    "len(missing)"
   ]
  },
  {
   "cell_type": "code",
   "execution_count": 9,
   "metadata": {},
   "outputs": [
    {
     "name": "stdout",
     "output_type": "stream",
     "text": [
      "['Apolónia', 'Alojzia', 'Rozina', 'Bria', 'Agneša', 'Savita', 'Emerika', 'Matilda', 'Klementína', 'Antónia', 'Jozefína', 'Justína', 'Eugénia', 'Regina', 'Lívia', 'Lujza', 'Hermína', 'Ilma', 'Otília', 'Zlatica', 'Priska', 'Šarlota', 'Kornélia', 'Dalma', 'Izabela', 'Edita', 'zuzana', 'Henrieta', 'Želmíra', 'Blanka', 'Monika', 'Viola', 'Eleonóra', 'Čilla', 'Perla', 'Erika', 'Hortenzia', 'Xénia', 'Oľga', 'Augusta', 'Marianna', 'Hedviga', 'Mariana', 'Olga', 'Jarmila']\n",
      "['Demeter', 'Kristián', 'Vavrinec', 'Ferdinand', 'Albert', 'Adolf', 'Abrahám', 'Edmund', 'Eduard', 'Gustáv', 'Alojz', 'Emil', 'Arpád', 'Ákoš', 'Dávid', 'Tibor', 'Florián', 'Sáli', 'Svetozár', 'Miloslav', 'Miloš', 'Rudolf', 'Jafet', 'Viktor', 'Ábel', 'Alfonz', 'Dušan', 'Diamand', 'Čongor', 'Miroslav']\n"
     ]
    }
   ],
   "source": [
    "# Using that in Slovakian almost all of the female names end with a,\n",
    "# I am creating a list with a endings and not a endings\n",
    "\n",
    "a = [x for x in missing if not pd.isna(x) and x[-1] == 'a']\n",
    "nota = [x for x in missing if not pd.isna(x) and x[-1] != 'a']\n",
    "print(a)\n",
    "print(nota)"
   ]
  },
  {
   "cell_type": "code",
   "execution_count": 10,
   "metadata": {},
   "outputs": [
    {
     "data": {
      "text/html": [
       "<div>\n",
       "<style scoped>\n",
       "    .dataframe tbody tr th:only-of-type {\n",
       "        vertical-align: middle;\n",
       "    }\n",
       "\n",
       "    .dataframe tbody tr th {\n",
       "        vertical-align: top;\n",
       "    }\n",
       "\n",
       "    .dataframe thead th {\n",
       "        text-align: right;\n",
       "    }\n",
       "</style>\n",
       "<table border=\"1\" class=\"dataframe\">\n",
       "  <thead>\n",
       "    <tr style=\"text-align: right;\">\n",
       "      <th></th>\n",
       "      <th>id</th>\n",
       "      <th>first_name_1</th>\n",
       "      <th>first_name_2</th>\n",
       "      <th>last_name</th>\n",
       "      <th>birth_date</th>\n",
       "      <th>birth_place</th>\n",
       "      <th>death_date</th>\n",
       "      <th>death_place</th>\n",
       "      <th>father_id</th>\n",
       "      <th>mother_id</th>\n",
       "      <th>partner_id1</th>\n",
       "      <th>partner_id2</th>\n",
       "      <th>partner_id3</th>\n",
       "      <th>partner_id4</th>\n",
       "      <th>partner_id5</th>\n",
       "      <th>partner_id6</th>\n",
       "    </tr>\n",
       "  </thead>\n",
       "  <tbody>\n",
       "    <tr>\n",
       "      <th>46753</th>\n",
       "      <td>I891041KOM</td>\n",
       "      <td>Sáli</td>\n",
       "      <td>Mária</td>\n",
       "      <td>Bočkai</td>\n",
       "      <td>1892-08-24</td>\n",
       "      <td>Tótkomlós</td>\n",
       "      <td>1892-12-06</td>\n",
       "      <td>Tótkomlós</td>\n",
       "      <td>I851063KOM</td>\n",
       "      <td>I850122KOM</td>\n",
       "      <td>NaN</td>\n",
       "      <td>NaN</td>\n",
       "      <td>NaN</td>\n",
       "      <td>NaN</td>\n",
       "      <td>NaN</td>\n",
       "      <td>NaN</td>\n",
       "    </tr>\n",
       "    <tr>\n",
       "      <th>55502</th>\n",
       "      <td>I911643KOM</td>\n",
       "      <td>Jafet</td>\n",
       "      <td>NaN</td>\n",
       "      <td>Chlebnický</td>\n",
       "      <td>1914-06-02</td>\n",
       "      <td>Tótkomlós</td>\n",
       "      <td>1915-07-19</td>\n",
       "      <td>Tótkomlós</td>\n",
       "      <td>I861149KOM</td>\n",
       "      <td>I870796KOM</td>\n",
       "      <td>NaN</td>\n",
       "      <td>NaN</td>\n",
       "      <td>NaN</td>\n",
       "      <td>NaN</td>\n",
       "      <td>NaN</td>\n",
       "      <td>NaN</td>\n",
       "    </tr>\n",
       "    <tr>\n",
       "      <th>63132</th>\n",
       "      <td>I941279KOM</td>\n",
       "      <td>Diamand</td>\n",
       "      <td>Gabriela</td>\n",
       "      <td>Domanovský</td>\n",
       "      <td>NaN</td>\n",
       "      <td>NaN</td>\n",
       "      <td>NaN</td>\n",
       "      <td>NaN</td>\n",
       "      <td>i091604000</td>\n",
       "      <td>I920314KOM</td>\n",
       "      <td>NaN</td>\n",
       "      <td>NaN</td>\n",
       "      <td>NaN</td>\n",
       "      <td>NaN</td>\n",
       "      <td>NaN</td>\n",
       "      <td>NaN</td>\n",
       "    </tr>\n",
       "  </tbody>\n",
       "</table>\n",
       "</div>"
      ],
      "text/plain": [
       "               id first_name_1 first_name_2   last_name  birth_date  \\\n",
       "46753  I891041KOM         Sáli        Mária      Bočkai  1892-08-24   \n",
       "55502  I911643KOM        Jafet          NaN  Chlebnický  1914-06-02   \n",
       "63132  I941279KOM      Diamand     Gabriela  Domanovský         NaN   \n",
       "\n",
       "      birth_place  death_date death_place   father_id   mother_id partner_id1  \\\n",
       "46753   Tótkomlós  1892-12-06   Tótkomlós  I851063KOM  I850122KOM         NaN   \n",
       "55502   Tótkomlós  1915-07-19   Tótkomlós  I861149KOM  I870796KOM         NaN   \n",
       "63132         NaN         NaN         NaN  i091604000  I920314KOM         NaN   \n",
       "\n",
       "      partner_id2 partner_id3 partner_id4 partner_id5 partner_id6  \n",
       "46753         NaN         NaN         NaN         NaN         NaN  \n",
       "55502         NaN         NaN         NaN         NaN         NaN  \n",
       "63132         NaN         NaN         NaN         NaN         NaN  "
      ]
     },
     "execution_count": 10,
     "metadata": {},
     "output_type": "execute_result"
    }
   ],
   "source": [
    "# While sense checking the data I found 3 names that I am not sure\n",
    "# what gender they belong to. Filtering for these.\n",
    "\n",
    "df_new[df_new[\"first_name_1\"].isin([\"Sáli\", \"Diamand\", \"Jafet\"]) ]"
   ]
  },
  {
   "cell_type": "code",
   "execution_count": 11,
   "metadata": {},
   "outputs": [],
   "source": [
    "# Second first names tells that the first two names are \n",
    "# female names. The last is unkonwn so it'll remain male.\n",
    "\n",
    "# Reorganising the two lists\n",
    "\n",
    "a.extend([\"Sáli\", \"Diamand\"])\n",
    "nota.remove(\"Sáli\")\n",
    "nota.remove(\"Diamand\") "
   ]
  },
  {
   "cell_type": "markdown",
   "metadata": {},
   "source": [
    "#### Creating dictionary with names and gender"
   ]
  },
  {
   "cell_type": "code",
   "execution_count": 12,
   "metadata": {},
   "outputs": [],
   "source": [
    "d = dict(zip(male_names_list, [\"male\"] * len(male_names_list)))\n",
    "d.update(dict(zip(nota, [\"male\"] * len(nota))))\n",
    "d.update(dict(zip(female_names_list, [\"female\"] * len(female_names_list))))\n",
    "d.update(dict(zip(a, [\"female\"] * len(a))))"
   ]
  },
  {
   "cell_type": "markdown",
   "metadata": {},
   "source": [
    "#### Adding gender column to original dataframe"
   ]
  },
  {
   "cell_type": "code",
   "execution_count": null,
   "metadata": {},
   "outputs": [],
   "source": [
    "df_new[\"sex\"] = df_new[\"first_name_1\"].map(d)"
   ]
  },
  {
   "cell_type": "markdown",
   "metadata": {},
   "source": [
    "## Writing new csv file"
   ]
  },
  {
   "cell_type": "code",
   "execution_count": 14,
   "metadata": {},
   "outputs": [],
   "source": [
    "df_new.to_csv(\"final_cleaned.csv\", encoding='utf-8-sig', sep = ';', index = False)"
   ]
  }
 ],
 "metadata": {
  "kernelspec": {
   "display_name": "Python 3",
   "language": "python",
   "name": "python3"
  },
  "language_info": {
   "codemirror_mode": {
    "name": "ipython",
    "version": 3
   },
   "file_extension": ".py",
   "mimetype": "text/x-python",
   "name": "python",
   "nbconvert_exporter": "python",
   "pygments_lexer": "ipython3",
   "version": "3.9.1"
  }
 },
 "nbformat": 4,
 "nbformat_minor": 4
}
